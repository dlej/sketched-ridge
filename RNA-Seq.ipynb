{
 "cells": [
  {
   "cell_type": "code",
   "execution_count": 1,
   "metadata": {},
   "outputs": [],
   "source": [
    "import os\n",
    "import urllib.request\n",
    "import tarfile\n",
    "\n",
    "import numpy as np\n",
    "from matplotlib import pyplot as plt\n",
    "\n",
    "import pandas as pd\n",
    "\n",
    "from sklearn.linear_model import Ridge\n",
    "from sklearn.metrics import mean_squared_error\n",
    "from sklearn.model_selection import KFold\n",
    "\n",
    "from tqdm import tqdm\n",
    "\n",
    "from gcv.ensemble import PreSketchedEnsembleRidge, EnsemblePreSketchTransform\n",
    "from gcv.sketches import CountSketchFactory, SketchSizeParams"
   ]
  },
  {
   "cell_type": "code",
   "execution_count": 2,
   "metadata": {},
   "outputs": [],
   "source": [
    "# download UCI gene expression cancer RNA-Seq Data Set\n",
    "# https://archive.ics.uci.edu/ml/datasets/gene+expression+cancer+RNA-Seq\n",
    "URL = 'https://archive.ics.uci.edu/ml/machine-learning-databases/00401/TCGA-PANCAN-HiSeq-801x20531.tar.gz'\n",
    "DATA_DIR = os.path.expanduser('~/data')\n",
    "FILE_NAME = 'TCGA-PANCAN-HiSeq-801x20531.tar.gz'\n",
    "EXTRACT_DIR = 'TCGA-PANCAN-HiSeq-801x20531'\n",
    "\n",
    "# download data\n",
    "if not os.path.exists(DATA_DIR):\n",
    "    os.makedirs(DATA_DIR)\n",
    "\n",
    "if not os.path.exists(os.path.join(DATA_DIR, EXTRACT_DIR)):\n",
    "    urllib.request.urlretrieve(URL, os.path.join(DATA_DIR, FILE_NAME))\n",
    "\n",
    "    # extract data\n",
    "    tar = tarfile.open(os.path.join(DATA_DIR, FILE_NAME))\n",
    "    tar.extractall(DATA_DIR)\n",
    "    tar.close()\n",
    "\n",
    "# load data\n",
    "df = pd.read_csv(os.path.join(DATA_DIR, EXTRACT_DIR, 'data.csv'), index_col=0)\n",
    "targets_df = pd.read_csv(os.path.join(DATA_DIR, EXTRACT_DIR, 'labels.csv'), index_col=0)\n"
   ]
  },
  {
   "cell_type": "code",
   "execution_count": 3,
   "metadata": {},
   "outputs": [],
   "source": [
    "classes = ['BRCA', 'KIRC']\n",
    "dataset_idx = np.where(targets_df.values == classes[0])[0].tolist() + np.where(targets_df.values == classes[1])[0].tolist()\n",
    "\n",
    "X = df.values[dataset_idx, :]\n",
    "y = (targets_df.values[dataset_idx, :].ravel() == classes[0]).astype(int) * 2 - 1\n",
    "\n",
    "rng = np.random.default_rng(0)\n",
    "idx = rng.permutation(X.shape[0])\n",
    "n_train = int(0.8 * X.shape[0])\n",
    "train_idx = idx[:n_train]\n",
    "test_idx = idx[n_train:]\n",
    "\n",
    "X_train, X_test = X[train_idx, :], X[test_idx, :]\n",
    "y_train, y_test = y[train_idx], y[test_idx]\n",
    "\n",
    "X_mean = X_train.mean(axis=0)\n",
    "X_std = X_train.std(axis=0)\n",
    "\n",
    "X_train = (X_train[:, X_std > 0] - X_mean[X_std > 0]) / X_std[X_std > 0]\n",
    "X_test = (X_test[:, X_std > 0] - X_mean[X_std > 0]) / X_std[X_std > 0]\n",
    "\n",
    "# save data\n",
    "np.savez('data/rna-seq.npz', X_train=X_train, X_test=X_test, y_train=y_train, y_test=y_test)\n",
    "\n",
    "n_train, p = X_train.shape\n",
    "n_test = X_test.shape[0]"
   ]
  },
  {
   "cell_type": "code",
   "execution_count": 4,
   "metadata": {},
   "outputs": [
    {
     "name": "stdout",
     "output_type": "stream",
     "text": [
      "(99, 20223)\n",
      "6572.211796660964\n"
     ]
    },
    {
     "data": {
      "image/png": "[encoded data removed]",
      "text/plain": [
       "<Figure size 640x480 with 1 Axes>"
      ]
     },
     "metadata": {},
     "output_type": "display_data"
    }
   ],
   "source": [
    "sf = CountSketchFactory(p)\n",
    "Sh = sf(SketchSizeParams(150))\n",
    "print(Sh.shape)\n",
    "\n",
    "# compute the sketch of the training data\n",
    "Xh_train = Sh @ X_train.T\n",
    "\n",
    "XX = Xh_train @ Xh_train.T\n",
    "w, v = np.linalg.eigh(XX)\n",
    "print(min(w))\n",
    "\n",
    "plt.hist(w, bins=100)\n",
    "plt.show()"
   ]
  },
  {
   "cell_type": "code",
   "execution_count": 5,
   "metadata": {},
   "outputs": [],
   "source": [
    "X_train_norm = X_train\n",
    "X_test_norm = X_test"
   ]
  },
  {
   "cell_type": "code",
   "execution_count": 6,
   "metadata": {},
   "outputs": [],
   "source": [
    "def classification_error(y_true, y_pred):\n",
    "    return np.mean(y_true != np.sign(y_pred))\n",
    "\n",
    "def gcv_error(estimator, y, y_hat, error_metric):\n",
    "\n",
    "    div = estimator.gcv_div()\n",
    "    z = (y_hat - div * y) / (1 - div)\n",
    "\n",
    "    return error_metric(y, z)"
   ]
  },
  {
   "cell_type": "code",
   "execution_count": 17,
   "metadata": {},
   "outputs": [
    {
     "name": "stderr",
     "output_type": "stream",
     "text": [
      "1/10: 100%|██████████| 2/2 [00:00<00:00,  5.49it/s]\n",
      "100%|██████████| 500/500 [00:00<00:00, 1226.08it/s]\n",
      "2/10: 100%|██████████| 2/2 [00:00<00:00,  3.86it/s]\n",
      "100%|██████████| 500/500 [00:00<00:00, 1047.57it/s]\n",
      "3/10: 100%|██████████| 2/2 [00:00<00:00,  4.38it/s]\n",
      "100%|██████████| 500/500 [00:00<00:00, 844.62it/s] \n",
      "4/10: 100%|██████████| 2/2 [00:00<00:00,  5.05it/s]\n",
      "100%|██████████| 500/500 [00:00<00:00, 1140.72it/s]\n",
      "5/10: 100%|██████████| 2/2 [00:00<00:00,  6.21it/s]\n",
      "100%|██████████| 500/500 [00:00<00:00, 1273.53it/s]\n",
      "6/10: 100%|██████████| 2/2 [00:00<00:00,  3.73it/s]\n",
      "100%|██████████| 500/500 [00:00<00:00, 1020.08it/s]\n",
      "7/10: 100%|██████████| 2/2 [00:00<00:00,  5.62it/s]\n",
      "100%|██████████| 500/500 [00:00<00:00, 1030.32it/s]\n",
      "8/10: 100%|██████████| 2/2 [00:00<00:00,  6.39it/s]\n",
      "100%|██████████| 500/500 [00:00<00:00, 1448.07it/s]\n",
      "9/10: 100%|██████████| 2/2 [00:00<00:00,  4.61it/s]\n",
      "100%|██████████| 500/500 [00:00<00:00, 1378.35it/s]\n",
      "10/10: 100%|██████████| 2/2 [00:00<00:00,  5.31it/s]\n",
      "100%|██████████| 500/500 [00:00<00:00, 1200.34it/s]\n"
     ]
    }
   ],
   "source": [
    "# sketches = ['gaussian', 'orthogonal', 'countsketch', 'dct']\n",
    "# sketches = ['countsketch', 'dct']\n",
    "sketches = ['countsketch']\n",
    "q = 99\n",
    "n_ens = 5\n",
    "# Ks = [2, 5, 10]\n",
    "Ks = [2]\n",
    "rng = np.random.default_rng(0)\n",
    "n_trials = 10\n",
    "\n",
    "lamdas = np.concatenate([-np.logspace(2, 1, 101), np.linspace(-10, 10, 201)[1:], np.logspace(1, 3, 201)[1:]])\n",
    "\n",
    "cv_reg_errs = np.zeros((n_trials, len(sketches), len(Ks), len(lamdas)))\n",
    "cv_cls_errs = np.zeros((n_trials, len(sketches), len(Ks), len(lamdas)))\n",
    "test_reg_errs = np.zeros((n_trials, len(sketches), len(lamdas)))\n",
    "test_cls_errs = np.zeros((n_trials, len(sketches), len(lamdas)))\n",
    "gcv_reg_errs = np.zeros((n_trials, len(sketches), len(lamdas)))\n",
    "gcv_cls_errs = np.zeros((n_trials, len(sketches), len(lamdas)))\n",
    "\n",
    "for t in range(n_trials):\n",
    "\n",
    "    for i, sketch in enumerate(sketches):\n",
    "        sketch_transform = EnsemblePreSketchTransform(n_ens=n_ens, q=q, sketch=sketch, rng=rng)\n",
    "        XS_train = sketch_transform.fit_transform(X_train_norm)\n",
    "        XS_test = sketch_transform.transform(X_test_norm)\n",
    "\n",
    "        # perform k-fold cross validation\n",
    "        for k, K in enumerate(Ks):\n",
    "\n",
    "            y_hat_cv = np.zeros((len(lamdas), n_train))\n",
    "\n",
    "            for train_idx, val_idx in tqdm(KFold(n_splits=K, shuffle=True, random_state=rng.integers(0, 1000)).split(XS_train), total=K, desc=f'{t + 1}/{n_trials}'):\n",
    "                XS_cv_train = XS_train[train_idx, :]\n",
    "                y_cv_train = y_train[train_idx]\n",
    "                XS_cv_val = XS_train[val_idx, :]\n",
    "                y_cv_val = y_train[val_idx]\n",
    "\n",
    "                ens = PreSketchedEnsembleRidge(n_ens=n_ens, lamda=lamdas[0], which_ridge='svd').fit(XS_cv_train, y_cv_train)\n",
    "                y_hat_cv[0, val_idx] = ens.predict(XS_cv_val)\n",
    "\n",
    "                for j, lamda in enumerate(lamdas[1:]):\n",
    "                    ens.refit(lamda)\n",
    "                    y_hat_cv[j + 1, val_idx] = ens.predict(XS_cv_val)\n",
    "                \n",
    "            # compute the CV error\n",
    "            for j in range(len(lamdas)):\n",
    "                cv_reg_errs[t, i, k, j] = mean_squared_error(y_train, y_hat_cv[j, :])\n",
    "                cv_cls_errs[t, i, k, j] = classification_error(y_train, y_hat_cv[j, :])\n",
    "        \n",
    "        # compute the test error and gcv error\n",
    "        ens = PreSketchedEnsembleRidge(n_ens=n_ens, lamda=lamdas[0], which_ridge='svd').fit(XS_train, y_train)\n",
    "        y_train_hat = ens.predict(XS_train)\n",
    "        y_test_hat = ens.predict(XS_test)\n",
    "        test_reg_errs[t, i, 0] = mean_squared_error(y_test, y_test_hat)\n",
    "        gcv_reg_errs[t, i, 0] = gcv_error(ens, y_train, y_train_hat, mean_squared_error)\n",
    "        test_cls_errs[t, i, 0] = classification_error(y_test, y_test_hat)\n",
    "        gcv_cls_errs[t, i, 0] = gcv_error(ens, y_train, y_train_hat, classification_error)\n",
    "\n",
    "        for j, lamda in enumerate(tqdm(lamdas[1:])):\n",
    "            ens.refit(lamda)\n",
    "            y_train_hat = ens.predict(XS_train)\n",
    "            y_test_hat = ens.predict(XS_test)\n",
    "            test_reg_errs[t, i, j + 1] = mean_squared_error(y_test, y_test_hat)\n",
    "            gcv_reg_errs[t, i, j + 1] = gcv_error(ens, y_train, y_train_hat, mean_squared_error)\n",
    "            test_cls_errs[t, i, j + 1] = classification_error(y_test, y_test_hat)\n",
    "            gcv_cls_errs[t, i, j + 1] = gcv_error(ens, y_train, y_train_hat, classification_error)\n",
    "\n"
   ]
  },
  {
   "cell_type": "code",
   "execution_count": 29,
   "metadata": {},
   "outputs": [
    {
     "name": "stdout",
     "output_type": "stream",
     "text": [
      "cv[0,0]: 152\n",
      "test[0]: 74\n",
      "gcv[0]: 74\n"
     ]
    }
   ],
   "source": [
    "# detect when lamda is too negative and set to nan\n",
    "lamda_0_i = np.argmin(np.abs(lamdas))\n",
    "BIG_VAL = 1\n",
    "\n",
    "for i in range(len(sketches)):\n",
    "    \n",
    "    for j in range(len(Ks)):\n",
    "        cv_idx = np.max(np.argwhere(np.mean(cv_reg_errs[:, i, j, :lamda_0_i], axis=0) > BIG_VAL))\n",
    "        print(f'cv[{i},{j}]: {cv_idx}')\n",
    "        cv_reg_errs[:, i, j, :cv_idx] = np.nan\n",
    "        cv_cls_errs[:, i, j, :cv_idx] = np.nan\n",
    "\n",
    "    test_idx = np.max(np.argwhere(np.mean(test_reg_errs[:, i, :lamda_0_i], axis=0) > BIG_VAL))\n",
    "    print(f'test[{i}]: {test_idx}')\n",
    "    test_reg_errs[:, i, :test_idx] = np.nan\n",
    "    test_cls_errs[:, i, :test_idx] = np.nan\n",
    "\n",
    "    gcv_idx = np.max(np.argwhere(np.mean(gcv_reg_errs[:, i, :lamda_0_i], axis=0) > BIG_VAL))\n",
    "    print(f'gcv[{i}]: {gcv_idx}')\n",
    "    gcv_reg_errs[:, i, :gcv_idx] = np.nan\n",
    "    gcv_cls_errs[:, i, :gcv_idx] = np.nan\n",
    "\n",
    "to_save = {\n",
    "    'cv_reg_errs': cv_reg_errs,\n",
    "    'cv_cls_errs': cv_cls_errs,\n",
    "    'test_reg_errs': test_reg_errs,\n",
    "    'test_cls_errs': test_cls_errs,\n",
    "    'gcv_reg_errs': gcv_reg_errs,\n",
    "    'gcv_cls_errs': gcv_cls_errs,\n",
    "    'lamdas': lamdas,\n",
    "    'sketches': sketches,\n",
    "    'Ks': Ks,\n",
    "    'n_ens': n_ens,\n",
    "    'q': q,\n",
    "    'n_trials': n_trials,\n",
    "    'p': p,\n",
    "    'n_train': n_train,\n",
    "    'n_test': n_test\n",
    "}\n",
    "\n",
    "np.savez('results/rna-seq.npz', **to_save)"
   ]
  },
  {
   "cell_type": "code",
   "execution_count": 28,
   "metadata": {},
   "outputs": [
    {
     "data": {
      "image/png": "[encoded data removed]",
      "text/plain": [
       "<Figure size 1000x400 with 2 Axes>"
      ]
     },
     "metadata": {},
     "output_type": "display_data"
    }
   ],
   "source": [
    "color_cycle = plt.rcParams['axes.prop_cycle'].by_key()['color']\n",
    "marker_cycle = ['o', 's', 'd', 'v', '^', '<', '>', 'p', 'h', '*']\n",
    "\n",
    "fig, axes = plt.subplots(1, 2, figsize=(10, 4))\n",
    "\n",
    "sketch_i = 0\n",
    "\n",
    "for k, K in enumerate(Ks):\n",
    "    markevery = (5, 20)\n",
    "    axes[0].plot(lamdas, np.mean(cv_reg_errs[:, sketch_i, k, :], axis=0), color=color_cycle[k])\n",
    "    axes[0].errorbar(lamdas, np.mean(cv_reg_errs[:, sketch_i, k, :], axis=0), yerr=np.std(cv_reg_errs[:, sketch_i, k, :], axis=0), errorevery=markevery, markevery=markevery, marker=marker_cycle[k], color=color_cycle[k], capsize=3, label=f'CV, K={K}')\n",
    "\n",
    "    axes[1].plot(lamdas, np.mean(cv_cls_errs[:, sketch_i, k, :], axis=0), color=color_cycle[k])\n",
    "    axes[1].errorbar(lamdas, np.mean(cv_cls_errs[:, sketch_i, k, :], axis=0), yerr=np.std(cv_cls_errs[:, sketch_i, k, :], axis=0), errorevery=markevery, markevery=markevery, marker=marker_cycle[k], color=color_cycle[k], capsize=3, label=f'CV, K={K}')\n",
    "\n",
    "markevery = (5, 20)\n",
    "axes[0].plot(lamdas, np.mean(test_reg_errs[:, sketch_i, :], axis=0), color=color_cycle[len(Ks)])\n",
    "axes[0].errorbar(lamdas, np.mean(test_reg_errs[:, sketch_i, :], axis=0), yerr=np.std(test_reg_errs[:, sketch_i, :], axis=0), errorevery=markevery, markevery=markevery, marker=marker_cycle[len(Ks)], color=color_cycle[len(Ks)], capsize=3, label='Test')\n",
    "# axes[0].plot(lamdas, gcv_reg_errs[:, sketch_i, :].T, color=color_cycle[len(Ks) + 1], alpha=0.5, label=['GCV'] + [None] * (n_trials - 1))\n",
    "axes[0].plot(lamdas, np.mean(gcv_reg_errs[:, sketch_i, :], axis=0), color=color_cycle[len(Ks) + 1])\n",
    "axes[0].errorbar(lamdas, np.mean(gcv_reg_errs[:, sketch_i, :], axis=0), yerr=np.std(gcv_reg_errs[:, sketch_i, :], axis=0), errorevery=markevery, markevery=markevery, marker=marker_cycle[len(Ks) + 1], color=color_cycle[len(Ks) + 1], capsize=3, label='GCV')\n",
    "\n",
    "axes[1].plot(lamdas, np.mean(test_cls_errs[:, sketch_i, :], axis=0), color=color_cycle[len(Ks)])\n",
    "axes[1].errorbar(lamdas, np.mean(test_cls_errs[:, sketch_i, :], axis=0), yerr=np.std(test_cls_errs[:, sketch_i, :], axis=0), errorevery=markevery, markevery=markevery, marker=marker_cycle[len(Ks)], color=color_cycle[len(Ks)], capsize=3)\n",
    "# axes[1].plot(lamdas, gcv_cls_errs[:, sketch_i, :].T, color=color_cycle[len(Ks) + 1], alpha=0.5, zorder=10)\n",
    "axes[1].plot(lamdas, np.mean(gcv_cls_errs[:, sketch_i, :], axis=0), color=color_cycle[len(Ks) + 1])\n",
    "axes[1].errorbar(lamdas, np.mean(gcv_cls_errs[:, sketch_i, :], axis=0), yerr=np.std(gcv_cls_errs[:, sketch_i, :], axis=0), errorevery=markevery, markevery=markevery, marker=marker_cycle[len(Ks) + 1], color=color_cycle[len(Ks) + 1], capsize=3, label='GCV')\n",
    "\n",
    "axes[0].legend()\n",
    "axes[0].set_xlabel(r'$\\lambda$')\n",
    "axes[0].set_title('RNA-Seq Ridge Regression')\n",
    "axes[0].set_ylabel('MSE')\n",
    "axes[0].set_xscale('symlog', linthresh=10)\n",
    "axes[0].set_xlim(-30, 1.1e3)\n",
    "axes[0].set_ylim(0, 0.1)\n",
    "\n",
    "axes[1].set_title('RNA-Seq Ridge Classification')\n",
    "axes[1].set_xlabel(r'$\\lambda$')\n",
    "axes[1].set_ylabel('Classification Error')\n",
    "axes[1].set_xscale('symlog', linthresh=10)\n",
    "axes[1].set_xlim(-30, 1.1e3)\n",
    "axes[1].set_ylim(-0.02, 0.02)\n",
    "\n",
    "plt.show()"
   ]
  },
  {
   "cell_type": "code",
   "execution_count": 46,
   "metadata": {},
   "outputs": [
    {
     "name": "stdout",
     "output_type": "stream",
     "text": [
      "Clasification Test Error\n",
      "K=2:      0 +-      0\n",
      "K=5:      0 +-      0\n",
      "GCV:      0 +-      0\n",
      "Regression Test Error\n",
      "K=2: 0.034819 +- 0.00490708\n",
      "K=5: 0.034819 +- 0.00490708\n",
      "GCV: 0.034819 +- 0.00490708\n"
     ]
    }
   ],
   "source": [
    "print('Clasification Test Error')\n",
    "\n",
    "cv_min_idx = np.argmin(cv_cls_errs, axis=3)[:, sketch_i]\n",
    "gcv_min_idx = np.argmin(gcv_cls_errs, axis=2)[:, sketch_i]\n",
    "\n",
    "for k, K in enumerate(Ks):\n",
    "\n",
    "    test_mean = np.mean([test_cls_errs[i, sketch_i, cv_min_idx[i, k]] for i in range(n_trials)])\n",
    "    test_std = np.std([test_cls_errs[i, sketch_i, cv_min_idx[i, k]] for i in range(n_trials)])\n",
    "\n",
    "    print(f'K={K}: {test_mean:6g} +- {test_std:6g}')\n",
    "\n",
    "test_mean = np.mean([test_cls_errs[i, sketch_i, gcv_min_idx[i]] for i in range(n_trials)])\n",
    "test_std = np.std([test_cls_errs[i, sketch_i, gcv_min_idx[i]] for i in range(n_trials)])\n",
    "\n",
    "print(f'GCV: {test_mean:6g} +- {test_std:6g}')\n",
    "\n",
    "print('Regression Test Error')\n",
    "\n",
    "cv_min_idx = np.argmin(cv_reg_errs, axis=3)[:, sketch_i]\n",
    "gcv_min_idx = np.argmin(gcv_reg_errs, axis=2)[:, sketch_i]\n",
    "\n",
    "for k, K in enumerate(Ks):\n",
    "\n",
    "    test_mean = np.mean([test_reg_errs[:, sketch_i, cv_min_idx[i, k]] for i in range(n_trials)])\n",
    "    test_std = np.std([test_reg_errs[:, sketch_i, cv_min_idx[i, k]] for i in range(n_trials)])\n",
    "\n",
    "    print(f'K={K}: {test_mean:6g} +- {test_std:6g}')\n",
    "\n",
    "test_mean = np.mean([test_reg_errs[:, sketch_i, gcv_min_idx[i]] for i in range(n_trials)])\n",
    "test_std = np.std([test_reg_errs[:, sketch_i, gcv_min_idx[i]] for i in range(n_trials)])\n",
    "\n",
    "print(f'GCV: {test_mean:6g} +- {test_std:6g}')\n"
   ]
  },
  {
   "cell_type": "code",
   "execution_count": 10,
   "metadata": {},
   "outputs": [
    {
     "name": "stdout",
     "output_type": "stream",
     "text": [
      "0.03176873438820051 0.001223979893198133 0.7406361314290153\n"
     ]
    }
   ],
   "source": [
    "ens = PreSketchedEnsembleRidge(n_ens=n_ens, lamda=0.0001, which_ridge='svd')\n",
    "ens.fit(XS_train, y_train)\n",
    "print(mean_squared_error(y_test, ens.predict(XS_test)), mean_squared_error(y_train, ens.predict(XS_train)), ens.gcv_div())"
   ]
  },
  {
   "cell_type": "code",
   "execution_count": 11,
   "metadata": {},
   "outputs": [
    {
     "data": {
      "text/plain": [
       "(297, 401, 297, (401, 297))"
      ]
     },
     "execution_count": 11,
     "metadata": {},
     "output_type": "execute_result"
    }
   ],
   "source": [
    "q = XS_train.shape[1] // n_ens\n",
    "\n",
    "XS_this = XS_train[:, :q]\n",
    "beta = np.linalg.solve(XS_this.T @ XS_this, XS_this.T @ y_train)\n",
    "np.linalg.matrix_rank(XS_this), len(y_train), q, XS_this.shape"
   ]
  },
  {
   "cell_type": "code",
   "execution_count": 12,
   "metadata": {},
   "outputs": [
    {
     "name": "stdout",
     "output_type": "stream",
     "text": [
      "Unsketched test error: 0.13256741307150258\n"
     ]
    }
   ],
   "source": [
    "lamda = 1\n",
    "ridge = Ridge(n_train * lamda, fit_intercept=False).fit(X_train_norm, y_train)\n",
    "\n",
    "y_hat = X_test_norm @ ridge.coef_\n",
    "print(f'Unsketched test error: {np.mean((y_hat - y_test)**2)}')"
   ]
  },
  {
   "cell_type": "code",
   "execution_count": 13,
   "metadata": {},
   "outputs": [
    {
     "data": {
      "text/plain": [
       "array([ 1,  1, -1,  1,  1,  1,  1,  1,  1, -1, -1, -1,  1,  1,  1,  1,  1,\n",
       "       -1, -1,  1,  1,  1, -1,  1,  1,  1,  1,  1, -1, -1,  1, -1,  1, -1,\n",
       "        1, -1,  1,  1, -1, -1,  1, -1,  1,  1,  1])"
      ]
     },
     "execution_count": 13,
     "metadata": {},
     "output_type": "execute_result"
    }
   ],
   "source": [
    "y_test"
   ]
  },
  {
   "cell_type": "code",
   "execution_count": null,
   "metadata": {},
   "outputs": [],
   "source": []
  }
 ],
 "metadata": {
  "kernelspec": {
   "display_name": "base",
   "language": "python",
   "name": "python3"
  },
  "language_info": {
   "codemirror_mode": {
    "name": "ipython",
    "version": 3
   },
   "file_extension": ".py",
   "mimetype": "text/x-python",
   "name": "python",
   "nbconvert_exporter": "python",
   "pygments_lexer": "ipython3",
   "version": "3.9.17"
  },
  "orig_nbformat": 4
 },
 "nbformat": 4,
 "nbformat_minor": 2
}
